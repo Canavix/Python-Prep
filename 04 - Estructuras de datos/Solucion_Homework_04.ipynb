{
 "cells": [
  {
   "attachments": {},
   "cell_type": "markdown",
   "metadata": {},
   "source": [
    "# Notas - Listas"
   ]
  },
  {
   "cell_type": "code",
   "execution_count": null,
   "metadata": {},
   "outputs": [],
   "source": [
    "#Crear lista\n",
    "mi_lista = ['Rojo','Verde','Azul','Amarillo','Naranja','Marrón']\n",
    "\n",
    "#Imprimir lista completa\n",
    "print(mi_lista)\n",
    "\n",
    "#Ver el tipo de la lista\n",
    "type(mi_lista)\n",
    "\n",
    "#Imprimir un item puntual de la lista\n",
    "print(mi_lista[2])\n",
    "\n",
    "#Imprimir un rango de la lista\n",
    "print(mi_lista[0:2]) # Incluye el 0, excluye el 2\n",
    "print(mi_lista[:2]) # Asumiendo valor inicial\n",
    "print(mi_lista[0:]) # Asumiendo valor final\n",
    "\n",
    "#Agregando elementos al final de la lista\n",
    "mi_lista.append('Blanco')\n",
    "\n",
    "#Agregando elemento indicando posición\n",
    "mi_lista.insert(3, 'Negro')\n",
    "print(mi_lista)\n",
    "\n",
    "#Concatenando listas\n",
    "mi_lista.extend(['Violeta','Rosado'])\n",
    "print(mi_lista)\n",
    "\n",
    "#Encontrar el índice de un ítem específico\n",
    "print(mi_lista.index('Azul'))\n",
    "\n",
    "#Eliminar elementos de una lista\n",
    "mi_lista.remove('Violeta')\n",
    "print(mi_lista)\n",
    "\n",
    "#Extraer y recuperar el último elemento de la lista\n",
    "ultimo = mi_lista.pop()\n",
    "print(ultimo)\n",
    "\n",
    "#Multiplicar la lista x veces\n",
    "miNuevaLista = ['a','b','c']\n",
    "print(miNuevaLista*3)\n",
    "\n",
    "#Ordenar una lista de menor a mayor\n",
    "lista = [1,4,6,8,3,2]\n",
    "lista.sort()\n",
    "print(lista)\n",
    "\n",
    "#Ordenar una lista de mayor a menor\n",
    "lista = [1,4,6,8,3,2]\n",
    "lista.sort(reverse=True)\n",
    "print(lista)\n"
   ]
  },
  {
   "attachments": {},
   "cell_type": "markdown",
   "metadata": {},
   "source": [
    "# Notas - Tuplas"
   ]
  },
  {
   "cell_type": "code",
   "execution_count": null,
   "metadata": {},
   "outputs": [],
   "source": [
    "#Convertir una lista en una tupla\n",
    "#Las tuplas son inmodificables\n",
    "miTupla = tuple(mi_lista)\n",
    "\n",
    "#Imprimir un ítem de la tupla\n",
    "print(miTupla[1])\n",
    "\n",
    "#Preguntar por un elemento de la tupla\n",
    "'Rojo' in miTupla\n",
    "\n",
    "#Evaluar el número de veces que hay un elemento\n",
    "miTupla.count('Rojo')\n",
    "\n",
    "#Tupla con un solo elemento\n",
    "miTuplaUnitaria = ('Blanco',)\n",
    "\n",
    "#Empaquetanto datos de tupla sin paréntesis\n",
    "miTupla = 'Camilo', 27, 9, 16\n",
    "\n",
    "#Desempaquetado de tupla, se guardan los valores en orden de las variables\n",
    "nombre, dia, mes, año = miTupla\n",
    "print(\"Nombre: \", nombre, \" - Día: \", dia,\" - Mes: \", mes,\" - Año: \", año)\n",
    "\n",
    "#Convertir una tupla en una lista\n",
    "miLista = list(miTupla)\n"
   ]
  },
  {
   "attachments": {},
   "cell_type": "markdown",
   "metadata": {},
   "source": [
    "# Notas - Diccionario"
   ]
  },
  {
   "cell_type": "code",
   "execution_count": null,
   "metadata": {},
   "outputs": [],
   "source": [
    "#Los diccionarios tienen una organización de 'Clave' y 'Valor'\n",
    "#Crear un diccionario\n",
    "miDiccionario = {   'Colores Primarios' : ['Amarillo','Azul','Rojo'],\n",
    "                    'Colores Secundarios' : ['Naranja','Violeta','Verde'],\n",
    "                    'Clave3' : 10,\n",
    "                    'Clave4' : False\n",
    "                }\n",
    "\n",
    "#Imprimir un valor a través de su clave\n",
    "print(miDiccionario['Colores Primarios'])\n",
    "\n",
    "#Agregar un valor\n",
    "miDiccionario['Clave5'] = 'Otro ejemplo'\n",
    "\n",
    "#Eliminar un elemento a través de su clave\n",
    "del miDiccionario['Clave4']\n",
    "\n",
    "#Utilizar una tupla como clave para un diccionario\n",
    "miTupla = ('Colombia','Peru','Ecuador')\n",
    "miDiccionario = {\n",
    "    miTupla[0] : \"Bogotá\",\n",
    "    miTupla[1] : \"Lima\",\n",
    "    miTupla[2] : \"Quito\"\n",
    "}\n",
    "\n",
    "#Colocar una tupla dentro de un diccionario\n",
    "miDiccionario = {\n",
    "    'Clave1' : 'Valor1',\n",
    "    'Clave2' : (1,2,3,4,5)\n",
    "}\n",
    "\n",
    "#Colocar una lista dentro de un diccionario - Diferencia en el paréntesis y el corchete\n",
    "miDiccionario = {\n",
    "    'Clave1' : 'Valor1',\n",
    "    'Clave2' : [1,2,3,4,5]\n",
    "}\n",
    "\n",
    "#Colocar un diccionario dentro de un diccionario\n",
    "miDiccionario = {\n",
    "    'Clave1' : 'Valor1',\n",
    "    'Clave2' : {'Numeros' : [1,2,3,4,5]}\n",
    "}\n",
    "\n",
    "#Imprimir las claves del diccionario\n",
    "print(miDiccionario.keys())\n",
    "\n",
    "#Imprimir los valores del diccionario\n",
    "print(miDiccionario.values())\n",
    "\n",
    "#Imprimir la longitud del diccionario\n",
    "len(miDiccionario)"
   ]
  },
  {
   "attachments": {},
   "cell_type": "markdown",
   "metadata": {},
   "source": [
    "# Punto 1"
   ]
  },
  {
   "cell_type": "code",
   "execution_count": 16,
   "metadata": {},
   "outputs": [
    {
     "name": "stdout",
     "output_type": "stream",
     "text": [
      "['Pereira', 'Bogotá', 'Estocolmo', 'Lisboa', 'Berlín', 'Denver', 'Palermo']\n"
     ]
    }
   ],
   "source": [
    "Lista1 = ['Pereira','Bogotá','Estocolmo','Lisboa','Berlín','Denver','Palermo']\n",
    "print(Lista1)"
   ]
  },
  {
   "attachments": {},
   "cell_type": "markdown",
   "metadata": {},
   "source": [
    "# Punto 2"
   ]
  },
  {
   "cell_type": "code",
   "execution_count": null,
   "metadata": {},
   "outputs": [],
   "source": [
    "print(Lista1[2])"
   ]
  },
  {
   "attachments": {},
   "cell_type": "markdown",
   "metadata": {},
   "source": [
    "# Punto 3"
   ]
  },
  {
   "cell_type": "code",
   "execution_count": null,
   "metadata": {},
   "outputs": [],
   "source": [
    "print(Lista1[2:5]) #Incluyendo el cuarto elemento"
   ]
  },
  {
   "attachments": {},
   "cell_type": "markdown",
   "metadata": {},
   "source": [
    "# Punto 4"
   ]
  },
  {
   "cell_type": "code",
   "execution_count": null,
   "metadata": {},
   "outputs": [],
   "source": [
    "type(Lista1)"
   ]
  },
  {
   "attachments": {},
   "cell_type": "markdown",
   "metadata": {},
   "source": [
    "# Punto 5"
   ]
  },
  {
   "cell_type": "code",
   "execution_count": null,
   "metadata": {},
   "outputs": [],
   "source": [
    "print(Lista1[3:])"
   ]
  },
  {
   "attachments": {},
   "cell_type": "markdown",
   "metadata": {},
   "source": [
    "# Punto 6"
   ]
  },
  {
   "cell_type": "code",
   "execution_count": null,
   "metadata": {},
   "outputs": [],
   "source": [
    "print(Lista1[:4])"
   ]
  },
  {
   "attachments": {},
   "cell_type": "markdown",
   "metadata": {},
   "source": [
    "# Punto 7"
   ]
  },
  {
   "cell_type": "code",
   "execution_count": null,
   "metadata": {},
   "outputs": [],
   "source": [
    "Lista1.append('Lisboa')\n",
    "Lista1.append('Moscú')\n",
    "print(Lista1)\n",
    "\n",
    "#Si usamos el comando para agregar los dos elementos al mismo tiempo, si arroja un error.\n",
    "#Sin embargo, agregará los elementos repetidos o nuevos, una y otra vez"
   ]
  },
  {
   "attachments": {},
   "cell_type": "markdown",
   "metadata": {},
   "source": [
    "# Punto 8"
   ]
  },
  {
   "cell_type": "code",
   "execution_count": null,
   "metadata": {},
   "outputs": [],
   "source": [
    "Lista1.insert(4,'Tokyo')\n",
    "print(Lista1)"
   ]
  },
  {
   "attachments": {},
   "cell_type": "markdown",
   "metadata": {},
   "source": [
    "# Punto 9"
   ]
  },
  {
   "cell_type": "code",
   "execution_count": null,
   "metadata": {},
   "outputs": [],
   "source": [
    "Lista1.extend(['Río','Manila'])\n",
    "print(Lista1)"
   ]
  },
  {
   "attachments": {},
   "cell_type": "markdown",
   "metadata": {},
   "source": [
    "# Punto 10"
   ]
  },
  {
   "cell_type": "code",
   "execution_count": null,
   "metadata": {},
   "outputs": [],
   "source": [
    "print(Lista1)\n",
    "print(Lista1.index('Lisboa'))"
   ]
  },
  {
   "attachments": {},
   "cell_type": "markdown",
   "metadata": {},
   "source": [
    "# Punto 11"
   ]
  },
  {
   "cell_type": "code",
   "execution_count": null,
   "metadata": {},
   "outputs": [],
   "source": [
    "print(Lista1.index('Armenia'))\n",
    "\n",
    "#Arroja un error indicando que el elemento no se encuentra en la lista"
   ]
  },
  {
   "attachments": {},
   "cell_type": "markdown",
   "metadata": {},
   "source": [
    "# Punto 12"
   ]
  },
  {
   "cell_type": "code",
   "execution_count": 92,
   "metadata": {},
   "outputs": [],
   "source": [
    "Lista1.remove('Río')"
   ]
  },
  {
   "attachments": {},
   "cell_type": "markdown",
   "metadata": {},
   "source": [
    "# Punto 13"
   ]
  },
  {
   "cell_type": "code",
   "execution_count": 93,
   "metadata": {},
   "outputs": [
    {
     "ename": "ValueError",
     "evalue": "list.remove(x): x not in list",
     "output_type": "error",
     "traceback": [
      "\u001b[0;31m---------------------------------------------------------------------------\u001b[0m",
      "\u001b[0;31mValueError\u001b[0m                                Traceback (most recent call last)",
      "\u001b[0;32m/var/folders/4d/pcxs9k214rnfd4sn914jdb3h0000gn/T/ipykernel_77418/2258028795.py\u001b[0m in \u001b[0;36m<module>\u001b[0;34m\u001b[0m\n\u001b[0;32m----> 1\u001b[0;31m \u001b[0mLista1\u001b[0m\u001b[0;34m.\u001b[0m\u001b[0mremove\u001b[0m\u001b[0;34m(\u001b[0m\u001b[0;34m'Río'\u001b[0m\u001b[0;34m)\u001b[0m\u001b[0;34m\u001b[0m\u001b[0;34m\u001b[0m\u001b[0m\n\u001b[0m",
      "\u001b[0;31mValueError\u001b[0m: list.remove(x): x not in list"
     ]
    }
   ],
   "source": [
    "Lista1.remove('Río')\n",
    "\n",
    "#Arroja un error que indica que el elemento a eliminar no está en la lista"
   ]
  },
  {
   "attachments": {},
   "cell_type": "markdown",
   "metadata": {},
   "source": [
    "# Punto 14"
   ]
  },
  {
   "cell_type": "code",
   "execution_count": 94,
   "metadata": {},
   "outputs": [
    {
     "name": "stdout",
     "output_type": "stream",
     "text": [
      "Manila\n"
     ]
    }
   ],
   "source": [
    "item14 = Lista1.pop()\n",
    "print(item14)"
   ]
  },
  {
   "attachments": {},
   "cell_type": "markdown",
   "metadata": {},
   "source": [
    "# Punto 15"
   ]
  },
  {
   "cell_type": "code",
   "execution_count": 95,
   "metadata": {},
   "outputs": [
    {
     "name": "stdout",
     "output_type": "stream",
     "text": [
      "['Pereira', 'Bogotá', 'Estocolmo', 'Berlín', 'Tokyo', 'Denver', 'Palermo', 'Lisboa', 'Lisboa', 'Moscú', 'Pereira', 'Bogotá', 'Estocolmo', 'Berlín', 'Tokyo', 'Denver', 'Palermo', 'Lisboa', 'Lisboa', 'Moscú', 'Pereira', 'Bogotá', 'Estocolmo', 'Berlín', 'Tokyo', 'Denver', 'Palermo', 'Lisboa', 'Lisboa', 'Moscú', 'Pereira', 'Bogotá', 'Estocolmo', 'Berlín', 'Tokyo', 'Denver', 'Palermo', 'Lisboa', 'Lisboa', 'Moscú']\n"
     ]
    }
   ],
   "source": [
    "print(Lista1 * 4)"
   ]
  },
  {
   "attachments": {},
   "cell_type": "markdown",
   "metadata": {},
   "source": [
    "# Punto 16"
   ]
  },
  {
   "cell_type": "code",
   "execution_count": 5,
   "metadata": {},
   "outputs": [
    {
     "name": "stdout",
     "output_type": "stream",
     "text": [
      "(1, 2, 3, 4, 5, 6, 7, 8, 9, 10, 11, 12, 13, 14, 15, 16, 17, 18, 19, 20)\n"
     ]
    }
   ],
   "source": [
    "tupla16 = (1,2,3,4,5,6,7,8,9,10,11,12,13,14,15,16,17,18,19,20)\n",
    "print(tupla16)"
   ]
  },
  {
   "attachments": {},
   "cell_type": "markdown",
   "metadata": {},
   "source": [
    "# Punto 17"
   ]
  },
  {
   "cell_type": "code",
   "execution_count": 97,
   "metadata": {},
   "outputs": [
    {
     "name": "stdout",
     "output_type": "stream",
     "text": [
      "(11, 12, 13, 14, 15)\n"
     ]
    }
   ],
   "source": [
    "print(tupla16[10:15])"
   ]
  },
  {
   "attachments": {},
   "cell_type": "markdown",
   "metadata": {},
   "source": [
    "# Punto 18"
   ]
  },
  {
   "cell_type": "code",
   "execution_count": 99,
   "metadata": {},
   "outputs": [
    {
     "data": {
      "text/plain": [
       "False"
      ]
     },
     "execution_count": 99,
     "metadata": {},
     "output_type": "execute_result"
    }
   ],
   "source": [
    "20 in tupla16\n",
    "30 in tupla16"
   ]
  },
  {
   "attachments": {},
   "cell_type": "markdown",
   "metadata": {},
   "source": [
    "# Punto 19"
   ]
  },
  {
   "cell_type": "code",
   "execution_count": 106,
   "metadata": {},
   "outputs": [
    {
     "name": "stdout",
     "output_type": "stream",
     "text": [
      "París ya estaba en la lista\n"
     ]
    }
   ],
   "source": [
    "if 'París' in Lista1:\n",
    "    print(\"París ya estaba en la lista\")\n",
    "else:\n",
    "    Lista1.append('París')\n",
    "    print(\"Se ha agregado el elemeto París a la lista\")"
   ]
  },
  {
   "attachments": {},
   "cell_type": "markdown",
   "metadata": {},
   "source": [
    "# Punto 20"
   ]
  },
  {
   "cell_type": "code",
   "execution_count": 109,
   "metadata": {},
   "outputs": [
    {
     "data": {
      "text/plain": [
       "1"
      ]
     },
     "execution_count": 109,
     "metadata": {},
     "output_type": "execute_result"
    }
   ],
   "source": [
    "Lista1.count('Tokyo')\n",
    "tupla16.count(4)"
   ]
  },
  {
   "attachments": {},
   "cell_type": "markdown",
   "metadata": {},
   "source": [
    "# Punto 21"
   ]
  },
  {
   "cell_type": "code",
   "execution_count": 6,
   "metadata": {},
   "outputs": [],
   "source": [
    "Lista21 = list(tupla16)"
   ]
  },
  {
   "attachments": {},
   "cell_type": "markdown",
   "metadata": {},
   "source": [
    "# Punto 22"
   ]
  },
  {
   "cell_type": "code",
   "execution_count": 11,
   "metadata": {},
   "outputs": [
    {
     "name": "stdout",
     "output_type": "stream",
     "text": [
      "(1, 2, 3, 4, 5, 6, 7, 8, 9, 10, 11, 12, 13, 14, 15, 16, 17, 18, 19, 20)\n",
      "1  -  2  -  3\n"
     ]
    }
   ],
   "source": [
    "print(tupla16)\n",
    "dato1, dato2, dato3 = tupla16[:3]\n",
    "print(dato1,\" - \", dato2,\" - \", dato3)"
   ]
  },
  {
   "attachments": {},
   "cell_type": "markdown",
   "metadata": {},
   "source": [
    "# Punto 23"
   ]
  },
  {
   "cell_type": "code",
   "execution_count": 22,
   "metadata": {},
   "outputs": [
    {
     "name": "stdout",
     "output_type": "stream",
     "text": [
      "Risaralda\n",
      "Portugal\n"
     ]
    }
   ],
   "source": [
    "diccionario23 = {\n",
    "    Lista1[0] : 'Risaralda',\n",
    "    Lista1[1] : 'Colombia',\n",
    "    Lista1[2] : 'Suecia',\n",
    "    Lista1[3] : 'Portugal',\n",
    "    Lista1[4] : 'Alemania',\n",
    "    Lista1[5] : 'Colorado',\n",
    "    Lista1[6] : 'Argentina'\n",
    "}"
   ]
  },
  {
   "attachments": {},
   "cell_type": "markdown",
   "metadata": {},
   "source": [
    "# Punto 24"
   ]
  },
  {
   "cell_type": "code",
   "execution_count": 23,
   "metadata": {},
   "outputs": [
    {
     "name": "stdout",
     "output_type": "stream",
     "text": [
      "dict_keys(['Pereira', 'Bogotá', 'Estocolmo', 'Lisboa', 'Berlín', 'Denver', 'Palermo'])\n"
     ]
    }
   ],
   "source": [
    "print(diccionario23.keys())"
   ]
  },
  {
   "attachments": {},
   "cell_type": "markdown",
   "metadata": {},
   "source": [
    "# Punto 25"
   ]
  },
  {
   "cell_type": "code",
   "execution_count": 25,
   "metadata": {},
   "outputs": [
    {
     "name": "stdout",
     "output_type": "stream",
     "text": [
      "Portugal\n",
      "Risaralda\n"
     ]
    }
   ],
   "source": [
    "print(diccionario23['Lisboa'])\n",
    "print(diccionario23['Pereira'])"
   ]
  }
 ],
 "metadata": {
  "kernelspec": {
   "display_name": "Python 3",
   "language": "python",
   "name": "python3"
  },
  "language_info": {
   "codemirror_mode": {
    "name": "ipython",
    "version": 3
   },
   "file_extension": ".py",
   "mimetype": "text/x-python",
   "name": "python",
   "nbconvert_exporter": "python",
   "pygments_lexer": "ipython3",
   "version": "3.7.9"
  },
  "orig_nbformat": 4,
  "vscode": {
   "interpreter": {
    "hash": "aee8b7b246df8f9039afb4144a1f6fd8d2ca17a180786b69acc140d282b71a49"
   }
  }
 },
 "nbformat": 4,
 "nbformat_minor": 2
}
