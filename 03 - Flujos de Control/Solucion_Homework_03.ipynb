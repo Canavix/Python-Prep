{
 "cells": [
  {
   "attachments": {},
   "cell_type": "markdown",
   "metadata": {},
   "source": [
    "# Punto 1"
   ]
  },
  {
   "cell_type": "code",
   "execution_count": null,
   "metadata": {},
   "outputs": [],
   "source": [
    "var1 = 15\n",
    "\n",
    "if var1 > 0:\n",
    "    print(\"El número es mayor a 0\")\n",
    "elif var1 < 0:\n",
    "    print(\"El número es menor a 0\")\n",
    "else:\n",
    "    print(\"El número es igual a 0\")"
   ]
  },
  {
   "attachments": {},
   "cell_type": "markdown",
   "metadata": {},
   "source": [
    "# Punto 2"
   ]
  },
  {
   "cell_type": "code",
   "execution_count": null,
   "metadata": {},
   "outputs": [],
   "source": [
    "dat21 = '30'\n",
    "dat22 = 2\n",
    "\n",
    "if type(dat21) == type(dat22):\n",
    "    print(\"Las variables son del mismo tipo\")\n",
    "else: \n",
    "    print(\"Las variables son de diferente tipo\")"
   ]
  },
  {
   "attachments": {},
   "cell_type": "markdown",
   "metadata": {},
   "source": [
    "# Punto 3"
   ]
  },
  {
   "cell_type": "code",
   "execution_count": null,
   "metadata": {},
   "outputs": [],
   "source": [
    "for n3 in range(1,21):\n",
    "    if (n3%2) == 0:\n",
    "        print(n3, ' es par')\n",
    "    else:\n",
    "        print(n3, ' es impar')"
   ]
  },
  {
   "attachments": {},
   "cell_type": "markdown",
   "metadata": {},
   "source": [
    "# Punto 4"
   ]
  },
  {
   "cell_type": "code",
   "execution_count": null,
   "metadata": {},
   "outputs": [],
   "source": [
    "for n4 in range(0,5):\n",
    "    print(n4**3)"
   ]
  },
  {
   "attachments": {},
   "cell_type": "markdown",
   "metadata": {},
   "source": [
    "# Punto 5"
   ]
  },
  {
   "cell_type": "code",
   "execution_count": null,
   "metadata": {},
   "outputs": [],
   "source": [
    "var5 = 23\n",
    "for n5 in range(0,var5):\n",
    "    print(n5)"
   ]
  },
  {
   "attachments": {},
   "cell_type": "markdown",
   "metadata": {},
   "source": [
    "# Punto 6"
   ]
  },
  {
   "cell_type": "code",
   "execution_count": null,
   "metadata": {},
   "outputs": [],
   "source": [
    "var6 = 7\n",
    "factorial = var6\n",
    "\n",
    "if var6 > 0:\n",
    "    while var6 > 1:\n",
    "        var6-=1\n",
    "        factorial = factorial*var6\n",
    "    print('El factorial es igual a ', factorial)\n",
    "else:\n",
    "    print(\"El numero ingresado es igual o inferior a 0\")"
   ]
  },
  {
   "attachments": {},
   "cell_type": "markdown",
   "metadata": {},
   "source": [
    "# Punto 7"
   ]
  },
  {
   "cell_type": "code",
   "execution_count": null,
   "metadata": {},
   "outputs": [],
   "source": [
    "var7 = 1\n",
    "while var7 <= 5:\n",
    "    print('Tabla del ', var7)\n",
    "    for n7 in range(1,11):\n",
    "        print(var7, ' x ', n7, ' = ', var7*n7)\n",
    "    var7+=1\n",
    "    print(' ')"
   ]
  },
  {
   "attachments": {},
   "cell_type": "markdown",
   "metadata": {},
   "source": [
    "# Punto 8"
   ]
  },
  {
   "cell_type": "code",
   "execution_count": null,
   "metadata": {},
   "outputs": [],
   "source": [
    "cadena8 = 'Camilo'\n",
    "var8 = 0\n",
    "cont8 = 0\n",
    "\n",
    "for letra8 in cadena8:\n",
    "    print(letra8)\n",
    "    var8+=1\n",
    "    while cont8 < var8:\n",
    "        print(cont8)\n",
    "        cont8+=1\n",
    "    cont8 = 0"
   ]
  },
  {
   "attachments": {},
   "cell_type": "markdown",
   "metadata": {},
   "source": [
    "# Punto 9"
   ]
  },
  {
   "cell_type": "code",
   "execution_count": null,
   "metadata": {},
   "outputs": [],
   "source": [
    "num9 = 1 # va hasta el 30\n",
    "cont9 = 0 # el conteo de residuos en 0\n",
    "\n",
    "while num9 <= 30:\n",
    "    for n9 in range(1, num9+1):\n",
    "        # print(num9, ' / ', n9)\n",
    "        if (num9 % n9) == 0:\n",
    "            cont9 += 1\n",
    "    if cont9 <= 2:\n",
    "        print(num9)\n",
    "    cont9 = 0\n",
    "    num9 += 1"
   ]
  },
  {
   "attachments": {},
   "cell_type": "markdown",
   "metadata": {},
   "source": [
    "# Punto 10\n",
    "### Agregando un break dentro del for, cuando el conteo de residuos igual a 0 sobrepase el valor de 2"
   ]
  },
  {
   "cell_type": "code",
   "execution_count": null,
   "metadata": {},
   "outputs": [],
   "source": [
    "num9 = 1 # va hasta el 30\n",
    "cont9 = 0 # el conteo de residuos en 0\n",
    "\n",
    "while num9 <= 30:\n",
    "    for n9 in range(1, num9+1):\n",
    "        # print(num9, ' / ', n9)\n",
    "        if (num9 % n9) == 0:\n",
    "            cont9 += 1\n",
    "            if cont9 > 2:\n",
    "                break\n",
    "    if cont9 <= 2:\n",
    "        print(num9)\n",
    "    cont9 = 0\n",
    "    num9 += 1"
   ]
  },
  {
   "attachments": {},
   "cell_type": "markdown",
   "metadata": {},
   "source": [
    "# Punto 11\n",
    "### Si es posible, de hecho, si imprimos las operaciones realizadas en el for, nos podemos dar cuenta que tan eficiente fue la optimización, aunque el tiempo de depuración es muy similar"
   ]
  },
  {
   "attachments": {},
   "cell_type": "markdown",
   "metadata": {},
   "source": [
    "# Punto 12\n",
    "### Completamente, entre mas grande sea el límite, mayor será la optimización del código, debido a que evitará operar un sin fin de números innecesarios. "
   ]
  },
  {
   "attachments": {},
   "cell_type": "markdown",
   "metadata": {},
   "source": [
    "# Punto 13"
   ]
  },
  {
   "cell_type": "code",
   "execution_count": null,
   "metadata": {},
   "outputs": [],
   "source": [
    "for n13 in range(100,300+1):\n",
    "    if (n13%12) != 0:\n",
    "        continue\n",
    "    print(n13)"
   ]
  },
  {
   "attachments": {},
   "cell_type": "markdown",
   "metadata": {},
   "source": [
    "# Punto 14"
   ]
  },
  {
   "cell_type": "code",
   "execution_count": null,
   "metadata": {},
   "outputs": [],
   "source": [
    "print(\"Digite el límite para hallar números primos: \")\n",
    "var14 = input()\n",
    "var14 = int(var14)\n",
    "\n",
    "num14 = 1 # va hasta el 30\n",
    "cont14 = 0 # el conteo de residuos en 0\n",
    "\n",
    "while num14 <= var14:\n",
    "    for n14 in range(1, num14+1):\n",
    "        if (num14 % n14) == 0:\n",
    "            cont14 += 1\n",
    "            if cont14 > 2:\n",
    "                break\n",
    "    if cont14 <= 2:\n",
    "        print(num14)\n",
    "    cont14 = 0\n",
    "    num14 += 1"
   ]
  },
  {
   "attachments": {},
   "cell_type": "markdown",
   "metadata": {},
   "source": [
    "# Punto 14 - Opción 2"
   ]
  },
  {
   "cell_type": "code",
   "execution_count": 7,
   "metadata": {},
   "outputs": [
    {
     "name": "stdout",
     "output_type": "stream",
     "text": [
      "Digite el número para analizar: \n",
      "El número  19  es primo\n",
      "Desea analizar otro número? (Y/N)\n",
      "Digite el número para analizar: \n",
      "El número  7  es primo\n",
      "Desea analizar otro número? (Y/N)\n",
      "Digite el número para analizar: \n",
      "El número  10  no es primo\n",
      "Desea analizar otro número? (Y/N)\n",
      "Digite el número para analizar: \n",
      "El número  31  es primo\n",
      "Desea analizar otro número? (Y/N)\n",
      "Proceso terminado\n"
     ]
    }
   ],
   "source": [
    "cont142 = 0\n",
    "while True:\n",
    "    print(\"Digite el número para analizar: \")\n",
    "    var142 = int(input())\n",
    "\n",
    "    for n142 in range(1, var142+1):\n",
    "        if (var142 % n142) == 0:\n",
    "            cont142 += 1\n",
    "            if cont142 > 2:\n",
    "                break\n",
    "\n",
    "    if cont142 <= 2:\n",
    "        print(\"El número \", var142, \" es primo\")\n",
    "    else:\n",
    "        print(\"El número \", var142, \" no es primo\")\n",
    "    cont142 = 0\n",
    "\n",
    "    print(\"Desea analizar otro número? (Y/N)\")\n",
    "    respuesta142 = input()\n",
    "    if respuesta142 == 'N':\n",
    "        break\n",
    "\n",
    "print(\"Proceso terminado\")"
   ]
  },
  {
   "attachments": {},
   "cell_type": "markdown",
   "metadata": {},
   "source": [
    "# Punto 15"
   ]
  },
  {
   "cell_type": "code",
   "execution_count": 10,
   "metadata": {},
   "outputs": [
    {
     "name": "stdout",
     "output_type": "stream",
     "text": [
      "El número es  102\n"
     ]
    }
   ],
   "source": [
    "for n15 in range(100, 300+1):\n",
    "    if ((n15 % 3) == 0) & ((n15 % 6) == 0):\n",
    "        print(\"El número es \", n15)\n",
    "        break\n"
   ]
  }
 ],
 "metadata": {
  "kernelspec": {
   "display_name": "Python 3",
   "language": "python",
   "name": "python3"
  },
  "language_info": {
   "codemirror_mode": {
    "name": "ipython",
    "version": 3
   },
   "file_extension": ".py",
   "mimetype": "text/x-python",
   "name": "python",
   "nbconvert_exporter": "python",
   "pygments_lexer": "ipython3",
   "version": "3.7.9"
  },
  "orig_nbformat": 4,
  "vscode": {
   "interpreter": {
    "hash": "aee8b7b246df8f9039afb4144a1f6fd8d2ca17a180786b69acc140d282b71a49"
   }
  }
 },
 "nbformat": 4,
 "nbformat_minor": 2
}
